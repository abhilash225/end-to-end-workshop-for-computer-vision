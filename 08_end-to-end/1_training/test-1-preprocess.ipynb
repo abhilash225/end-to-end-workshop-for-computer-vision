{
 "cells": [
  {
   "cell_type": "code",
   "execution_count": 36,
   "metadata": {},
   "outputs": [],
   "source": [
    "import sagemaker\n",
    "from sagemaker import get_execution_role\n",
    "\n",
    "role = get_execution_role()\n",
    "sess = sagemaker.Session()\n",
    "\n",
    "default_bucket = sess.default_bucket() # or use your own custom bucket name\n",
    "account = sess.account_id()\n",
    "base_job_prefix = 'BirdEnd2End'\n",
    "region = sagemaker.Session().boto_region_name"
   ]
  },
  {
   "cell_type": "code",
   "execution_count": 37,
   "metadata": {},
   "outputs": [],
   "source": [
    "# image location\n",
    "s3_input_data = f\"s3://{default_bucket}/{base_job_prefix}/unlabeled/images\"\n",
    "# labelled manifest location\n",
    "s3_input_manifest = f\"s3://{default_bucket}/{base_job_prefix}/pipeline/manifest\"\n",
    "\n",
    "\n",
    "output_s3_uri = f's3://{default_bucket}/{base_job_prefix}/scriptprocessor/output/preprocess'"
   ]
  },
  {
   "cell_type": "code",
   "execution_count": 38,
   "metadata": {},
   "outputs": [],
   "source": [
    "import boto3\n",
    "from sagemaker.processing import ScriptProcessor, ProcessingInput, ProcessingOutput, Processor\n",
    "from sagemaker import get_execution_role\n",
    "\n",
    "import uuid\n",
    "\n",
    "container_name = \"sagemaker-tf-container\"\n",
    "\n",
    "image_uri = \"{}.dkr.ecr.{}.amazonaws.com/{}:2.0\".format(account, region, container_name)\n",
    "\n",
    "script_processor = ScriptProcessor(\n",
    "    base_job_name = base_job_prefix,\n",
    "                command=['python3'],\n",
    "                image_uri=image_uri,\n",
    "                role=role,\n",
    "                instance_count=1,\n",
    "                instance_type='ml.m5.xlarge')"
   ]
  },
  {
   "cell_type": "code",
   "execution_count": 39,
   "metadata": {},
   "outputs": [
    {
     "name": "stdout",
     "output_type": "stream",
     "text": [
      "\n",
      "Job Name:  BirdEnd2End-2022-03-17-13-07-55-816\n",
      "Inputs:  [{'InputName': 'input-1', 'AppManaged': False, 'S3Input': {'S3Uri': 's3://sagemaker-us-west-2-987720697751/BirdEnd2End/unlabeled/images', 'LocalPath': '/opt/ml/processing/input/images/', 'S3DataType': 'S3Prefix', 'S3InputMode': 'File', 'S3DataDistributionType': 'FullyReplicated', 'S3CompressionType': 'None'}}, {'InputName': 'input-2', 'AppManaged': False, 'S3Input': {'S3Uri': 's3://sagemaker-us-west-2-987720697751/BirdEnd2End/pipeline/manifest', 'LocalPath': '/opt/ml/processing/input/manifest/', 'S3DataType': 'S3Prefix', 'S3InputMode': 'File', 'S3DataDistributionType': 'FullyReplicated', 'S3CompressionType': 'None'}}, {'InputName': 'code', 'AppManaged': False, 'S3Input': {'S3Uri': 's3://sagemaker-us-west-2-987720697751/BirdEnd2End-2022-03-17-13-07-55-816/input/code/preprocess.py', 'LocalPath': '/opt/ml/processing/input/code', 'S3DataType': 'S3Prefix', 'S3InputMode': 'File', 'S3DataDistributionType': 'FullyReplicated', 'S3CompressionType': 'None'}}]\n",
      "Outputs:  [{'OutputName': 'output-1', 'AppManaged': False, 'S3Output': {'S3Uri': 's3://sagemaker-us-west-2-987720697751/BirdEnd2End/scriptprocessor/output/preprocess/train', 'LocalPath': '/opt/ml/processing/output/train', 'S3UploadMode': 'EndOfJob'}}, {'OutputName': 'output-2', 'AppManaged': False, 'S3Output': {'S3Uri': 's3://sagemaker-us-west-2-987720697751/BirdEnd2End/scriptprocessor/output/preprocess/valid', 'LocalPath': '/opt/ml/processing/output/valid', 'S3UploadMode': 'EndOfJob'}}, {'OutputName': 'output-3', 'AppManaged': False, 'S3Output': {'S3Uri': 's3://sagemaker-us-west-2-987720697751/BirdEnd2End/scriptprocessor/output/preprocess/test', 'LocalPath': '/opt/ml/processing/output/test', 'S3UploadMode': 'EndOfJob'}}, {'OutputName': 'output-4', 'AppManaged': False, 'S3Output': {'S3Uri': 's3://sagemaker-us-west-2-987720697751/BirdEnd2End/scriptprocessor/output/preprocess/classes', 'LocalPath': '/opt/ml/processing/output/classes', 'S3UploadMode': 'EndOfJob'}}]\n",
      ".........................\u001b[34mmanifest file location: /opt/ml/processing/input/manifest...\u001b[0m\n",
      "\u001b[34mnumber of images processed for train is 333\u001b[0m\n",
      "\u001b[34mnumber of images processed for valid is 96\u001b[0m\n",
      "\u001b[34mnumber of images processed for test is 48\u001b[0m\n",
      "\u001b[34mFinished running processing job\u001b[0m\n",
      "\n"
     ]
    }
   ],
   "source": [
    "script_processor.run(\n",
    "    code='pipeline/preprocess.py',\n",
    "    arguments=[\"--manifest\", \"manifest\", \n",
    "               \"--images\", \"images\"],\n",
    "    inputs=[ProcessingInput(source=s3_input_data, \n",
    "                            destination=\"/opt/ml/processing/input/images/\"),\n",
    "            ProcessingInput(source=s3_input_manifest, \n",
    "                            destination=\"/opt/ml/processing/input/manifest/\"),\n",
    "           ],\n",
    "    outputs=[\n",
    "            ProcessingOutput(source=\"/opt/ml/processing/output/train\", destination = output_s3_uri +'/train'),\n",
    "            ProcessingOutput(source=\"/opt/ml/processing/output/valid\", destination = output_s3_uri +'/valid'),\n",
    "            ProcessingOutput(source=\"/opt/ml/processing/output/test\", destination = output_s3_uri +'/test'),\n",
    "            ProcessingOutput(source=\"/opt/ml/processing/output/classes\", destination = output_s3_uri +'/classes'),\n",
    "        ],\n",
    "                    )"
   ]
  },
  {
   "cell_type": "code",
   "execution_count": 26,
   "metadata": {},
   "outputs": [
    {
     "name": "stdout",
     "output_type": "stream",
     "text": [
      "s3://sagemaker-us-west-2-987720697751/BirdEnd2End/scriptprocessor/output/preprocess/classes\n"
     ]
    }
   ],
   "source": [
    "preprocessing_job_description = script_processor.jobs[-1].describe()\n",
    "\n",
    "output_config = preprocessing_job_description[\"ProcessingOutputConfig\"]\n",
    "for output in output_config[\"Outputs\"]:\n",
    "    output_data = output[\"S3Output\"][\"S3Uri\"]\n",
    "    \n",
    "print(output_data)"
   ]
  },
  {
   "cell_type": "code",
   "execution_count": null,
   "metadata": {},
   "outputs": [],
   "source": []
  }
 ],
 "metadata": {
  "instance_type": "ml.t3.medium",
  "kernelspec": {
   "display_name": "Python 3 (Data Science)",
   "language": "python",
   "name": "python3__SAGEMAKER_INTERNAL__arn:aws:sagemaker:us-west-2:236514542706:image/datascience-1.0"
  },
  "language_info": {
   "codemirror_mode": {
    "name": "ipython",
    "version": 3
   },
   "file_extension": ".py",
   "mimetype": "text/x-python",
   "name": "python",
   "nbconvert_exporter": "python",
   "pygments_lexer": "ipython3",
   "version": "3.7.10"
  }
 },
 "nbformat": 4,
 "nbformat_minor": 4
}
