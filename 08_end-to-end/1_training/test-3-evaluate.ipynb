{
 "cells": [
  {
   "cell_type": "code",
   "execution_count": 16,
   "metadata": {},
   "outputs": [],
   "source": [
    "import sagemaker\n",
    "from sagemaker import get_execution_role\n",
    "\n",
    "role = get_execution_role()\n",
    "sess = sagemaker.Session()\n",
    "\n",
    "default_bucket = sess.default_bucket() # or use your own custom bucket name\n",
    "account = sess.account_id()\n",
    "base_job_prefix = 'BirdEnd2End'\n",
    "region = sagemaker.Session().boto_region_name"
   ]
  },
  {
   "cell_type": "code",
   "execution_count": 17,
   "metadata": {},
   "outputs": [
    {
     "data": {
      "text/plain": [
       "'987720697751.dkr.ecr.us-west-2.amazonaws.com/sagemaker-tf-container:2.0'"
      ]
     },
     "execution_count": 17,
     "metadata": {},
     "output_type": "execute_result"
    }
   ],
   "source": [
    "container_name = \"sagemaker-tf-container\"\n",
    "# !cd docker && sm-docker build . --file Dockerfile --repository $container_name:2.0\n",
    "    \n",
    "ecr_image = \"{}.dkr.ecr.{}.amazonaws.com/{}:2.0\".format(account, region, container_name)\n",
    "ecr_image"
   ]
  },
  {
   "cell_type": "code",
   "execution_count": 20,
   "metadata": {},
   "outputs": [],
   "source": [
    "import boto3\n",
    "from sagemaker.processing import ScriptProcessor, ProcessingInput, ProcessingOutput, Processor\n",
    "from sagemaker import get_execution_role\n",
    "\n",
    "s3_data = f's3://{default_bucket}/{base_job_prefix}/scriptprocessor/output/preprocess'\n",
    "s3_model = f\"s3://{default_bucket}/{base_job_prefix}/BirdEnd2End-debugger-2022-03-17-04-33-10-008/output\"\n",
    "\n",
    "role = get_execution_role()\n",
    "\n",
    "image_uri = ecr_image\n",
    "\n",
    "script_processor = ScriptProcessor(\n",
    "                base_job_name = f\"{base_job_prefix}-evaluation\",\n",
    "                command=['python3'],\n",
    "                image_uri=image_uri,\n",
    "                role=role,\n",
    "                instance_count=1,\n",
    "                instance_type='ml.m5.xlarge')"
   ]
  },
  {
   "cell_type": "code",
   "execution_count": 21,
   "metadata": {},
   "outputs": [
    {
     "name": "stdout",
     "output_type": "stream",
     "text": [
      "\n",
      "Job Name:  BirdEnd2End-evaluation-2022-03-17-04-56-00-703\n",
      "Inputs:  [{'InputName': 'input-1', 'AppManaged': False, 'S3Input': {'S3Uri': 's3://sagemaker-us-west-2-987720697751/BirdEnd2End/scriptprocessor/output/preprocess/test', 'LocalPath': '/opt/ml/processing/input/test', 'S3DataType': 'S3Prefix', 'S3InputMode': 'File', 'S3DataDistributionType': 'FullyReplicated', 'S3CompressionType': 'None'}}, {'InputName': 'input-2', 'AppManaged': False, 'S3Input': {'S3Uri': 's3://sagemaker-us-west-2-987720697751/BirdEnd2End/scriptprocessor/output/preprocess/classes', 'LocalPath': '/opt/ml/processing/input/classes', 'S3DataType': 'S3Prefix', 'S3InputMode': 'File', 'S3DataDistributionType': 'FullyReplicated', 'S3CompressionType': 'None'}}, {'InputName': 'input-3', 'AppManaged': False, 'S3Input': {'S3Uri': 's3://sagemaker-us-west-2-987720697751/BirdEnd2End/BirdEnd2End-debugger-2022-03-17-04-33-10-008/output', 'LocalPath': '/opt/ml/processing/model', 'S3DataType': 'S3Prefix', 'S3InputMode': 'File', 'S3DataDistributionType': 'FullyReplicated', 'S3CompressionType': 'None'}}, {'InputName': 'code', 'AppManaged': False, 'S3Input': {'S3Uri': 's3://sagemaker-us-west-2-987720697751/BirdEnd2End-evaluation-2022-03-17-04-56-00-703/input/code/evaluation.py', 'LocalPath': '/opt/ml/processing/input/code', 'S3DataType': 'S3Prefix', 'S3InputMode': 'File', 'S3DataDistributionType': 'FullyReplicated', 'S3CompressionType': 'None'}}]\n",
      "Outputs:  [{'OutputName': 'evaluation', 'AppManaged': False, 'S3Output': {'S3Uri': 's3://sagemaker-us-west-2-987720697751/BirdEnd2End/scriptprocessor/output/evaluation', 'LocalPath': '/opt/ml/processing/evaluation', 'S3UploadMode': 'EndOfJob'}}]\n",
      "..........................\u001b[34mExtracting the model\u001b[0m\n",
      "\u001b[34mLoad model\u001b[0m\n",
      "\u001b[34m2022-03-17 05:00:12.218177: E tensorflow/stream_executor/cuda/cuda_driver.cc:351] failed call to cuInit: UNKNOWN ERROR (303)\u001b[0m\n",
      "\u001b[34mStarting evaluation.\u001b[0m\n",
      "\u001b[34mprediction is 1, and the actual is 1============\u001b[0m\n",
      "\u001b[34mprediction is 2, and the actual is 1============\u001b[0m\n",
      "\u001b[34mERROR - Pred: 2 0.96, Actual: 1\u001b[0m\n",
      "\u001b[34mprediction is 1, and the actual is 1============\u001b[0m\n",
      "\u001b[34mprediction is 2, and the actual is 1============\u001b[0m\n",
      "\u001b[34mERROR - Pred: 2 0.94, Actual: 1\u001b[0m\n",
      "\u001b[34mprediction is 1, and the actual is 1============\u001b[0m\n",
      "\u001b[34mprediction is 2, and the actual is 1============\u001b[0m\n",
      "\u001b[34mERROR - Pred: 2 1.00, Actual: 1\u001b[0m\n",
      "\u001b[34mprediction is 0, and the actual is 0============\u001b[0m\n",
      "\u001b[34mprediction is 0, and the actual is 0============\u001b[0m\n",
      "\u001b[34mprediction is 0, and the actual is 0============\u001b[0m\n",
      "\u001b[34mprediction is 0, and the actual is 0============\u001b[0m\n",
      "\u001b[34mprediction is 0, and the actual is 0============\u001b[0m\n",
      "\u001b[34mprediction is 0, and the actual is 0============\u001b[0m\n",
      "\u001b[34mprediction is 7, and the actual is 7============\u001b[0m\n",
      "\u001b[34mprediction is 7, and the actual is 7============\u001b[0m\n",
      "\u001b[34mprediction is 7, and the actual is 7============\u001b[0m\n",
      "\u001b[34mprediction is 7, and the actual is 7============\u001b[0m\n",
      "\u001b[34mprediction is 7, and the actual is 7============\u001b[0m\n",
      "\u001b[34mprediction is 7, and the actual is 7============\u001b[0m\n",
      "\u001b[34mprediction is 4, and the actual is 4============\u001b[0m\n",
      "\u001b[34mprediction is 4, and the actual is 4============\u001b[0m\n",
      "\u001b[34mprediction is 4, and the actual is 4============\u001b[0m\n",
      "\u001b[34mprediction is 4, and the actual is 4============\u001b[0m\n",
      "\u001b[34mprediction is 4, and the actual is 4============\u001b[0m\n",
      "\u001b[34mprediction is 4, and the actual is 4============\u001b[0m\n",
      "\u001b[34mprediction is 3, and the actual is 3============\u001b[0m\n",
      "\u001b[34mprediction is 5, and the actual is 3============\u001b[0m\n",
      "\u001b[34mERROR - Pred: 5 0.55, Actual: 3\u001b[0m\n",
      "\u001b[34mprediction is 3, and the actual is 3============\u001b[0m\n",
      "\u001b[34mprediction is 3, and the actual is 3============\u001b[0m\n",
      "\u001b[34mprediction is 3, and the actual is 3============\u001b[0m\n",
      "\u001b[34mprediction is 3, and the actual is 3============\u001b[0m\n",
      "\u001b[34mprediction is 2, and the actual is 2============\u001b[0m\n",
      "\u001b[34mprediction is 2, and the actual is 2============\u001b[0m\n",
      "\u001b[34mprediction is 2, and the actual is 2============\u001b[0m\n",
      "\u001b[34mprediction is 2, and the actual is 2============\u001b[0m\n",
      "\u001b[34mprediction is 2, and the actual is 2============\u001b[0m\n",
      "\u001b[34mprediction is 2, and the actual is 2============\u001b[0m\n",
      "\u001b[34mprediction is 5, and the actual is 5============\u001b[0m\n",
      "\u001b[34mprediction is 5, and the actual is 5============\u001b[0m\n",
      "\u001b[34mprediction is 5, and the actual is 5============\u001b[0m\n",
      "\u001b[34mprediction is 5, and the actual is 5============\u001b[0m\n",
      "\u001b[34mprediction is 5, and the actual is 5============\u001b[0m\n",
      "\u001b[34mprediction is 5, and the actual is 5============\u001b[0m\n",
      "\u001b[34mprediction is 6, and the actual is 6============\u001b[0m\n",
      "\u001b[34mprediction is 6, and the actual is 6============\u001b[0m\n",
      "\u001b[34mprediction is 6, and the actual is 6============\u001b[0m\n",
      "\u001b[34mprediction is 6, and the actual is 6============\u001b[0m\n",
      "\u001b[34mprediction is 6, and the actual is 6============\u001b[0m\n",
      "\u001b[34mprediction is 6, and the actual is 6============\u001b[0m\n",
      "\u001b[34m[1, 1, 1, 1, 1, 1, 0, 0, 0, 0, 0, 0, 7, 7, 7, 7, 7, 7, 4, 4, 4, 4, 4, 4, 3, 3, 3, 3, 3, 3, 2, 2, 2, 2, 2, 2, 5, 5, 5, 5, 5, 5, 6, 6, 6, 6, 6, 6]\u001b[0m\n",
      "\u001b[34m[1, 2, 1, 2, 1, 2, 0, 0, 0, 0, 0, 0, 7, 7, 7, 7, 7, 7, 4, 4, 4, 4, 4, 4, 3, 5, 3, 3, 3, 3, 2, 2, 2, 2, 2, 2, 5, 5, 5, 5, 5, 5, 6, 6, 6, 6, 6, 6]\u001b[0m\n",
      "\u001b[34m{'1': 'Cardinal', '0': 'Bobolink', '7': 'Mallard', '4': 'American_Goldfinch', '3': 'Northern_Flicker', '2': 'Purple_Finch', '5': 'Ruby_throated_Hummingbird', '6': 'Blue_Jay'}\u001b[0m\n",
      "\u001b[34mrange(0, 8)\u001b[0m\n",
      "\u001b[34mAccuracy: 0.9166666666666666\u001b[0m\n",
      "\u001b[34mPrecision: 0.9166666666666666\u001b[0m\n",
      "\u001b[34mRecall: 0.9166666666666666\u001b[0m\n",
      "\u001b[34mConfusion matrix: [[6 0 0 0 0 0 0 0]\n",
      " [0 3 3 0 0 0 0 0]\n",
      " [0 0 6 0 0 0 0 0]\n",
      " [0 0 0 5 0 1 0 0]\n",
      " [0 0 0 0 6 0 0 0]\n",
      " [0 0 0 0 0 6 0 0]\n",
      " [0 0 0 0 0 0 6 0]\n",
      " [0 0 0 0 0 0 0 6]]\u001b[0m\n",
      "\u001b[34mF1 score: 0.9166666666666666\u001b[0m\n",
      "\u001b[34mSaving the result json file to /opt/ml/processing/output/evaluation.json ....\u001b[0m\n",
      "\u001b[34mEnd of the evaluation process....\u001b[0m\n",
      "\n"
     ]
    }
   ],
   "source": [
    "script_processor.run(\n",
    "                code='pipeline/evaluation.py',\n",
    "                arguments=[\"--model-file\", \"model.tar.gz\",\n",
    "                          \"--classes-file\", \"classes.json\"],\n",
    "                inputs=[ProcessingInput(source=f\"{s3_data}/test\", \n",
    "                                        destination=\"/opt/ml/processing/input/test\"),\n",
    "                        ProcessingInput(source=f\"{s3_data}/classes\", \n",
    "                                        destination=\"/opt/ml/processing/input/classes\"),\n",
    "                        ProcessingInput(source=s3_model, \n",
    "                                        destination=\"/opt/ml/processing/model\"),\n",
    "                       ],\n",
    "                outputs=[\n",
    "                    ProcessingOutput(output_name=\"evaluation\", source=\"/opt/ml/processing/evaluation\",\n",
    "                                    destination=f\"s3://{default_bucket}/{base_job_prefix}/scriptprocessor/output/evaluation\")\n",
    "                ]\n",
    "            )"
   ]
  },
  {
   "cell_type": "code",
   "execution_count": null,
   "metadata": {},
   "outputs": [],
   "source": []
  }
 ],
 "metadata": {
  "instance_type": "ml.t3.medium",
  "kernelspec": {
   "display_name": "Python 3 (Data Science)",
   "language": "python",
   "name": "python3__SAGEMAKER_INTERNAL__arn:aws:sagemaker:us-west-2:236514542706:image/datascience-1.0"
  },
  "language_info": {
   "codemirror_mode": {
    "name": "ipython",
    "version": 3
   },
   "file_extension": ".py",
   "mimetype": "text/x-python",
   "name": "python",
   "nbconvert_exporter": "python",
   "pygments_lexer": "ipython3",
   "version": "3.7.10"
  }
 },
 "nbformat": 4,
 "nbformat_minor": 4
}
