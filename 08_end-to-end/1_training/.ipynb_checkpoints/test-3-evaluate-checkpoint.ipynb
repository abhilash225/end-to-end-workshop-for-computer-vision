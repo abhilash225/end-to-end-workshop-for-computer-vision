{
 "cells": [
  {
   "cell_type": "code",
   "execution_count": null,
   "metadata": {},
   "outputs": [],
   "source": [
    "import sagemaker\n",
    "from sagemaker import get_execution_role\n",
    "\n",
    "role = get_execution_role()\n",
    "sess = sagemaker.Session()\n",
    "\n",
    "default_bucket = sess.default_bucket() # or use your own custom bucket name\n",
    "account = sess.account_id()\n",
    "base_job_prefix = 'BirdEnd2End'\n",
    "region = sagemaker.Session().boto_region_name"
   ]
  },
  {
   "cell_type": "code",
   "execution_count": null,
   "metadata": {},
   "outputs": [],
   "source": [
    "container_name = \"sagemaker-tf-container\"\n",
    "# !cd docker && sm-docker build . --file Dockerfile --repository $container_name:2.0\n",
    "    \n",
    "ecr_image = \"{}.dkr.ecr.{}.amazonaws.com/{}:2.0\".format(account, region, container_name)\n",
    "ecr_image"
   ]
  },
  {
   "cell_type": "code",
   "execution_count": null,
   "metadata": {},
   "outputs": [],
   "source": [
    "import boto3\n",
    "from sagemaker.processing import ScriptProcessor, ProcessingInput, ProcessingOutput, Processor\n",
    "from sagemaker import get_execution_role\n",
    "\n",
    "s3_data = f's3://{default_bucket}/{base_job_prefix}/scriptprocessor/output/preprocess'\n",
    "s3_model = f\"s3://{default_bucket}/{base_job_prefix}/BirdEnd2End-debugger-2022-03-17-04-33-10-008/output\"\n",
    "\n",
    "role = get_execution_role()\n",
    "\n",
    "image_uri = ecr_image\n",
    "\n",
    "script_processor = ScriptProcessor(\n",
    "                base_job_name = f\"{base_job_prefix}-evaluation\",\n",
    "                command=['python3'],\n",
    "                image_uri=image_uri,\n",
    "                role=role,\n",
    "                instance_count=1,\n",
    "                instance_type='ml.m5.xlarge')"
   ]
  },
  {
   "cell_type": "code",
   "execution_count": null,
   "metadata": {},
   "outputs": [],
   "source": [
    "script_processor.run(\n",
    "                code='pipeline/evaluation.py',\n",
    "                arguments=[\"--model-file\", \"model.tar.gz\",\n",
    "                          \"--classes-file\", \"classes.json\"],\n",
    "                inputs=[ProcessingInput(source=f\"{s3_data}/test\", \n",
    "                                        destination=\"/opt/ml/processing/input/test\"),\n",
    "                        ProcessingInput(source=f\"{s3_data}/classes\", \n",
    "                                        destination=\"/opt/ml/processing/input/classes\"),\n",
    "                        ProcessingInput(source=s3_model, \n",
    "                                        destination=\"/opt/ml/processing/model\"),\n",
    "                       ],\n",
    "                outputs=[\n",
    "                    ProcessingOutput(output_name=\"evaluation\", source=\"/opt/ml/processing/evaluation\",\n",
    "                                    destination=f\"s3://{default_bucket}/{base_job_prefix}/scriptprocessor/output/evaluation\")\n",
    "                ]\n",
    "            )"
   ]
  },
  {
   "cell_type": "code",
   "execution_count": null,
   "metadata": {},
   "outputs": [],
   "source": []
  }
 ],
 "metadata": {
  "instance_type": "ml.t3.medium",
  "kernelspec": {
   "display_name": "Python 3 (Data Science)",
   "language": "python",
   "name": "python3__SAGEMAKER_INTERNAL__arn:aws:sagemaker:us-west-2:236514542706:image/datascience-1.0"
  },
  "language_info": {
   "codemirror_mode": {
    "name": "ipython",
    "version": 3
   },
   "file_extension": ".py",
   "mimetype": "text/x-python",
   "name": "python",
   "nbconvert_exporter": "python",
   "pygments_lexer": "ipython3",
   "version": "3.7.10"
  }
 },
 "nbformat": 4,
 "nbformat_minor": 4
}
